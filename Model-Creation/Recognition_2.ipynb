{
 "cells": [
  {
   "cell_type": "code",
   "execution_count": 134,
   "metadata": {},
   "outputs": [],
   "source": [
    "#importing necessary packages\n",
    "import tensorflow as tf \n",
    "from tensorflow.keras.models import Sequential\n",
    "from tensorflow.keras.layers import Dense, Dropout, Activation, Flatten, Conv2D, MaxPooling2D\n",
    "import pickle\n",
    "import numpy as np\n",
    "from keras.models import model_from_json\n",
    "from keras.models import load_model\n",
    "import matplotlib.pyplot as plt\n",
    "from pathlib import Path\n",
    "import os, pickle"
   ]
  },
  {
   "cell_type": "code",
   "execution_count": 135,
   "metadata": {},
   "outputs": [],
   "source": [
    "#Loading pickle files\n",
    "\n",
    "file_path_X = open(os.path.join(r\"C:\\Users\\NAMITHA\\Ancient-Tamil-Script-Recognition-master\\Model-Creation\\X.pickle\"), 'rb')\n",
    "file_path_Y = open(os.path.join(r\"C:\\Users\\NAMITHA\\Ancient-Tamil-Script-Recognition-master\\Model-Creation\\Y.pickle\"), 'rb')\n",
    "X = pickle.load(file_path_X)\n",
    "y = np.array(pickle.load(file_path_Y))"
   ]
  },
  {
   "cell_type": "code",
   "execution_count": 136,
   "metadata": {},
   "outputs": [],
   "source": [
    "number_of_classes = max(y) + 1 #Number of classes"
   ]
  },
  {
   "cell_type": "code",
   "execution_count": 137,
   "metadata": {},
   "outputs": [],
   "source": [
    "X = X/255.0 #Normalising the images"
   ]
  },
  {
   "cell_type": "code",
   "execution_count": 138,
   "metadata": {},
   "outputs": [
    {
     "name": "stdout",
     "output_type": "stream",
     "text": [
      "(4561, 50, 50, 1)\n"
     ]
    }
   ],
   "source": [
    "print(X.shape)"
   ]
  },
  {
   "cell_type": "code",
   "execution_count": 139,
   "metadata": {},
   "outputs": [],
   "source": [
    "# Building the model\n",
    "model = Sequential()\n",
    "# convolutional layers\n",
    "model.add(Conv2D(64, (3, 3), input_shape = X.shape[1:]))\n",
    "model.add(Activation(\"relu\"))\n",
    "model.add(MaxPooling2D(pool_size=(2,2)))\n",
    "\n",
    "model.add(Conv2D(32, (3, 3)))\n",
    "model.add(Activation(\"relu\"))\n",
    "model.add(MaxPooling2D(pool_size=(2,2)))\n",
    "\n",
    "model.add(Conv2D(32, (3, 3)))\n",
    "model.add(Activation(\"relu\"))\n",
    "model.add(MaxPooling2D(pool_size=(2,2)))\n",
    "\n",
    "model.add(Conv2D(32, (3, 3)))\n",
    "model.add(Activation(\"relu\"))\n",
    "model.add(MaxPooling2D(pool_size=(2,2)))\n",
    "model.add(Dropout(0.25))\n",
    "\n",
    "# hidden layers\n",
    "model.add(Flatten()) \n",
    "model.add(Dense(128))\n",
    "model.add(Activation(\"relu\"))\n",
    "\n",
    "model.add(Dense(128))\n",
    "model.add(Activation(\"relu\"))\n",
    "\n",
    "model.add(Dense(128))\n",
    "model.add(Activation(\"relu\"))\n",
    "\n",
    "# The output layer for given number of classes\n",
    "model.add(Dense(number_of_classes))\n",
    "model.add(Activation(\"softmax\"))\n",
    "\n",
    "# Compiling the model using some basic parameters\n",
    "model.compile(loss=\"sparse_categorical_crossentropy\",\n",
    "              optimizer=\"adam\",\n",
    "              metrics=[\"accuracy\"])"
   ]
  },
  {
   "cell_type": "code",
   "execution_count": null,
   "metadata": {
    "scrolled": true
   },
   "outputs": [
    {
     "name": "stdout",
     "output_type": "stream",
     "text": [
      "Epoch 1/40\n",
      "411/411 [==============================] - 19s 40ms/step - loss: 4.3350 - accuracy: 0.0258 - val_loss: 4.2565 - val_accuracy: 0.0284\n",
      "Epoch 2/40\n",
      "411/411 [==============================] - 16s 38ms/step - loss: 4.2721 - accuracy: 0.0285 - val_loss: 4.2421 - val_accuracy: 0.0284\n",
      "Epoch 3/40\n",
      "411/411 [==============================] - 16s 38ms/step - loss: 4.2601 - accuracy: 0.0275 - val_loss: 4.2495 - val_accuracy: 0.0372\n",
      "Epoch 4/40\n",
      "411/411 [==============================] - 17s 40ms/step - loss: 4.2614 - accuracy: 0.0273 - val_loss: 4.2334 - val_accuracy: 0.0416\n",
      "Epoch 5/40\n",
      "411/411 [==============================] - 16s 39ms/step - loss: 4.2527 - accuracy: 0.0312 - val_loss: 4.1758 - val_accuracy: 0.0525\n",
      "Epoch 6/40\n",
      "411/411 [==============================] - 16s 40ms/step - loss: 4.1285 - accuracy: 0.0480 - val_loss: 3.9441 - val_accuracy: 0.0678\n",
      "Epoch 7/40\n",
      "411/411 [==============================] - 16s 39ms/step - loss: 3.9571 - accuracy: 0.0609 - val_loss: 3.7941 - val_accuracy: 0.0875\n",
      "Epoch 8/40\n",
      "411/411 [==============================] - 14s 33ms/step - loss: 3.7684 - accuracy: 0.0858 - val_loss: 3.5874 - val_accuracy: 0.1357\n",
      "Epoch 9/40\n",
      "411/411 [==============================] - 12s 30ms/step - loss: 3.5610 - accuracy: 0.1050 - val_loss: 3.4075 - val_accuracy: 0.1225\n",
      "Epoch 10/40\n",
      "411/411 [==============================] - 13s 31ms/step - loss: 3.4036 - accuracy: 0.1145 - val_loss: 3.1954 - val_accuracy: 0.1357\n",
      "Epoch 11/40\n",
      "411/411 [==============================] - 12s 30ms/step - loss: 3.2543 - accuracy: 0.1318 - val_loss: 3.0963 - val_accuracy: 0.1313\n",
      "Epoch 12/40\n",
      "411/411 [==============================] - 12s 30ms/step - loss: 3.1536 - accuracy: 0.1365 - val_loss: 3.0313 - val_accuracy: 0.1247\n",
      "Epoch 13/40\n",
      "411/411 [==============================] - 13s 31ms/step - loss: 3.0370 - accuracy: 0.1579 - val_loss: 2.8680 - val_accuracy: 0.1685\n",
      "Epoch 14/40\n",
      "411/411 [==============================] - 13s 31ms/step - loss: 2.9403 - accuracy: 0.1659 - val_loss: 2.8241 - val_accuracy: 0.1794\n",
      "Epoch 15/40\n",
      "411/411 [==============================] - 12s 30ms/step - loss: 2.8548 - accuracy: 0.1672 - val_loss: 2.7135 - val_accuracy: 0.1751\n",
      "Epoch 16/40\n",
      "411/411 [==============================] - 12s 30ms/step - loss: 2.8087 - accuracy: 0.1808 - val_loss: 2.6582 - val_accuracy: 0.1794\n",
      "Epoch 17/40\n",
      "411/411 [==============================] - 12s 30ms/step - loss: 2.7152 - accuracy: 0.1837 - val_loss: 2.6256 - val_accuracy: 0.1947\n",
      "Epoch 18/40\n",
      "411/411 [==============================] - 14s 33ms/step - loss: 2.6858 - accuracy: 0.1888 - val_loss: 2.6030 - val_accuracy: 0.1904\n",
      "Epoch 19/40\n",
      "411/411 [==============================] - 12s 30ms/step - loss: 2.6463 - accuracy: 0.1893 - val_loss: 2.5158 - val_accuracy: 0.2035\n",
      "Epoch 20/40\n",
      "411/411 [==============================] - 15s 38ms/step - loss: 2.5850 - accuracy: 0.1881 - val_loss: 2.4898 - val_accuracy: 0.1729\n",
      "Epoch 21/40\n",
      "411/411 [==============================] - 12s 29ms/step - loss: 2.5402 - accuracy: 0.2000 - val_loss: 2.4239 - val_accuracy: 0.1685\n",
      "Epoch 22/40\n",
      "411/411 [==============================] - 12s 30ms/step - loss: 2.5031 - accuracy: 0.2049 - val_loss: 2.4531 - val_accuracy: 0.1729\n",
      "Epoch 23/40\n",
      "411/411 [==============================] - 12s 30ms/step - loss: 2.4742 - accuracy: 0.2061 - val_loss: 2.4010 - val_accuracy: 0.1641\n",
      "Epoch 24/40\n",
      "411/411 [==============================] - 13s 31ms/step - loss: 2.4361 - accuracy: 0.2108 - val_loss: 2.3328 - val_accuracy: 0.1882\n",
      "Epoch 25/40\n",
      "411/411 [==============================] - 12s 30ms/step - loss: 2.3914 - accuracy: 0.2225 - val_loss: 2.3392 - val_accuracy: 0.1882\n",
      "Epoch 26/40\n",
      "411/411 [==============================] - 13s 31ms/step - loss: 2.3448 - accuracy: 0.2139 - val_loss: 2.3089 - val_accuracy: 0.1882\n",
      "Epoch 27/40\n",
      "411/411 [==============================] - 12s 30ms/step - loss: 2.3180 - accuracy: 0.2269 - val_loss: 2.3146 - val_accuracy: 0.1751\n",
      "Epoch 28/40\n",
      "411/411 [==============================] - 13s 31ms/step - loss: 2.3000 - accuracy: 0.2281 - val_loss: 2.2861 - val_accuracy: 0.1751\n",
      "Epoch 29/40\n",
      "411/411 [==============================] - 13s 31ms/step - loss: 2.2819 - accuracy: 0.2334 - val_loss: 2.2579 - val_accuracy: 0.2101\n",
      "Epoch 30/40\n",
      "411/411 [==============================] - 13s 31ms/step - loss: 2.2429 - accuracy: 0.2488 - val_loss: 2.2741 - val_accuracy: 0.1882\n",
      "Epoch 31/40\n",
      "411/411 [==============================] - 12s 30ms/step - loss: 2.2280 - accuracy: 0.2273 - val_loss: 2.2977 - val_accuracy: 0.1947\n",
      "Epoch 32/40\n",
      "411/411 [==============================] - 13s 31ms/step - loss: 2.2190 - accuracy: 0.2359 - val_loss: 2.2021 - val_accuracy: 0.2254\n",
      "Epoch 33/40\n",
      "411/411 [==============================] - 15s 36ms/step - loss: 2.1975 - accuracy: 0.2395 - val_loss: 2.2468 - val_accuracy: 0.1554\n",
      "Epoch 34/40\n",
      "411/411 [==============================] - 16s 40ms/step - loss: 2.2093 - accuracy: 0.2378 - val_loss: 2.1855 - val_accuracy: 0.1860\n",
      "Epoch 35/40\n",
      " 70/411 [====>.........................] - ETA: 12s - loss: 2.1612 - accuracy: 0.2557"
     ]
    }
   ],
   "source": [
    "# Training the model, with 40 iterations\n",
    "history = model.fit(X, y, batch_size=10, epochs=40, validation_split=0.1)"
   ]
  },
  {
   "cell_type": "code",
   "execution_count": 131,
   "metadata": {},
   "outputs": [
    {
     "name": "stdout",
     "output_type": "stream",
     "text": [
      "Model: \"sequential_26\"\n",
      "_________________________________________________________________\n",
      " Layer (type)                Output Shape              Param #   \n",
      "=================================================================\n",
      " conv2d_90 (Conv2D)          (None, 48, 48, 64)        640       \n",
      "                                                                 \n",
      " activation_164 (Activation)  (None, 48, 48, 64)       0         \n",
      "                                                                 \n",
      " max_pooling2d_84 (MaxPoolin  (None, 24, 24, 64)       0         \n",
      " g2D)                                                            \n",
      "                                                                 \n",
      " conv2d_91 (Conv2D)          (None, 22, 22, 32)        18464     \n",
      "                                                                 \n",
      " activation_165 (Activation)  (None, 22, 22, 32)       0         \n",
      "                                                                 \n",
      " max_pooling2d_85 (MaxPoolin  (None, 11, 11, 32)       0         \n",
      " g2D)                                                            \n",
      "                                                                 \n",
      " conv2d_92 (Conv2D)          (None, 9, 9, 32)          9248      \n",
      "                                                                 \n",
      " activation_166 (Activation)  (None, 9, 9, 32)         0         \n",
      "                                                                 \n",
      " max_pooling2d_86 (MaxPoolin  (None, 4, 4, 32)         0         \n",
      " g2D)                                                            \n",
      "                                                                 \n",
      " conv2d_93 (Conv2D)          (None, 2, 2, 32)          9248      \n",
      "                                                                 \n",
      " activation_167 (Activation)  (None, 2, 2, 32)         0         \n",
      "                                                                 \n",
      " max_pooling2d_87 (MaxPoolin  (None, 1, 1, 32)         0         \n",
      " g2D)                                                            \n",
      "                                                                 \n",
      " dropout_20 (Dropout)        (None, 1, 1, 32)          0         \n",
      "                                                                 \n",
      " flatten_20 (Flatten)        (None, 32)                0         \n",
      "                                                                 \n",
      " dense_80 (Dense)            (None, 128)               4224      \n",
      "                                                                 \n",
      " activation_168 (Activation)  (None, 128)              0         \n",
      "                                                                 \n",
      " dense_81 (Dense)            (None, 128)               16512     \n",
      "                                                                 \n",
      " activation_169 (Activation)  (None, 128)              0         \n",
      "                                                                 \n",
      " dense_82 (Dense)            (None, 128)               16512     \n",
      "                                                                 \n",
      " activation_170 (Activation)  (None, 128)              0         \n",
      "                                                                 \n",
      " dense_83 (Dense)            (None, 100)               12900     \n",
      "                                                                 \n",
      " activation_171 (Activation)  (None, 100)              0         \n",
      "                                                                 \n",
      "=================================================================\n",
      "Total params: 87,748\n",
      "Trainable params: 87,748\n",
      "Non-trainable params: 0\n",
      "_________________________________________________________________\n"
     ]
    }
   ],
   "source": [
    "model.summary()"
   ]
  },
  {
   "cell_type": "code",
   "execution_count": 132,
   "metadata": {},
   "outputs": [
    {
     "name": "stdout",
     "output_type": "stream",
     "text": [
      "Saved model to disk\n"
     ]
    },
    {
     "name": "stderr",
     "output_type": "stream",
     "text": [
      "WARNING:absl:Found untraced functions such as _jit_compiled_convolution_op, _jit_compiled_convolution_op, _jit_compiled_convolution_op, _jit_compiled_convolution_op while saving (showing 4 of 4). These functions will not be directly callable after loading.\n"
     ]
    },
    {
     "name": "stdout",
     "output_type": "stream",
     "text": [
      "INFO:tensorflow:Assets written to: CNN\\assets\n"
     ]
    },
    {
     "name": "stderr",
     "output_type": "stream",
     "text": [
      "INFO:tensorflow:Assets written to: CNN\\assets\n"
     ]
    },
    {
     "name": "stdout",
     "output_type": "stream",
     "text": [
      "Saved CNN model to disk\n"
     ]
    }
   ],
   "source": [
    "#Saving the model in local machine\n",
    "model.save_weights(\"model.h5\")\n",
    "print(\"Saved model to disk\")\n",
    "\n",
    "model.save('CNN')\n",
    "print(\"Saved CNN model to disk\")"
   ]
  },
  {
   "cell_type": "code",
   "execution_count": 133,
   "metadata": {},
   "outputs": [
    {
     "name": "stdout",
     "output_type": "stream",
     "text": [
      "dict_keys(['loss', 'accuracy', 'val_loss', 'val_accuracy'])\n"
     ]
    },
    {
     "data": {
      "text/plain": [
       "<matplotlib.legend.Legend at 0x285605ec790>"
      ]
     },
     "execution_count": 133,
     "metadata": {},
     "output_type": "execute_result"
    },
    {
     "data": {
      "image/png": "[encoded data removed]",
      "text/plain": [
       "<Figure size 432x288 with 1 Axes>"
      ]
     },
     "metadata": {
      "needs_background": "light"
     },
     "output_type": "display_data"
    }
   ],
   "source": [
    "# Printing a graph showing the accuracy changes during the training phase\n",
    "print(history.history.keys())\n",
    "plt.figure(1)\n",
    "plt.plot(history.history['accuracy'])\n",
    "plt.plot(history.history['val_accuracy'])\n",
    "plt.title('model accuracy')\n",
    "plt.ylabel('accuracy')\n",
    "plt.xlabel('epoch')\n",
    "plt.legend(['train', 'validation'], loc='upper left')"
   ]
  },
  {
   "cell_type": "code",
   "execution_count": null,
   "metadata": {},
   "outputs": [],
   "source": []
  }
 ],
 "metadata": {
  "kernelspec": {
   "display_name": "Python 3 (ipykernel)",
   "language": "python",
   "name": "python3"
  },
  "language_info": {
   "codemirror_mode": {
    "name": "ipython",
    "version": 3
   },
   "file_extension": ".py",
   "mimetype": "text/x-python",
   "name": "python",
   "nbconvert_exporter": "python",
   "pygments_lexer": "ipython3",
   "version": "3.9.12"
  }
 },
 "nbformat": 4,
 "nbformat_minor": 2
}
